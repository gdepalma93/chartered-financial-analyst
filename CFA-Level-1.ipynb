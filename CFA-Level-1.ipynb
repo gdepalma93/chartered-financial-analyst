{
 "cells": [
  {
   "cell_type": "markdown",
   "metadata": {},
   "source": [
    "**Section 1: Quantitative Methods**"
   ]
  },
  {
   "cell_type": "code",
   "execution_count": 3,
   "metadata": {},
   "outputs": [
    {
     "name": "stdout",
     "output_type": "stream",
     "text": [
      "The correlation coefficient is 0.5079989509572514\n"
     ]
    }
   ],
   "source": [
    "# Question 1: Assume that Security A has a standard deviation of 4.1% and Security B has a standard deviation of 9.3%. If the Covariance of the returns is 19.37, then the correlation coefficient between the securities is...\n",
    "cov = 19.37\n",
    "sigma_A = 4.1\n",
    "sigma_B = 9.3\n",
    "sigma_AB = cov/(sigma_A * sigma_B)\n",
    "print(f\"The correlation coefficient is {sigma_AB}\")"
   ]
  },
  {
   "cell_type": "code",
   "execution_count": 9,
   "metadata": {},
   "outputs": [
    {
     "name": "stdout",
     "output_type": "stream",
     "text": [
      "The Final Selling Price of the investment is $923.17\n"
     ]
    }
   ],
   "source": [
    "# Question 2: William purchased an investment for $600. He kept the investment for 5 years before selling it. If the internal rate of return for the 5-year period was 9%, the final selling price is:\n",
    "PV = 600\n",
    "N = 5\n",
    "r = 0.09\n",
    "pmt = 0\n",
    "FV = round(PV * (1 + r)**N,2)\n",
    "print(f\"The Final Selling Price of the investment is ${FV}\")"
   ]
  },
  {
   "cell_type": "code",
   "execution_count": 11,
   "metadata": {},
   "outputs": [
    {
     "name": "stdout",
     "output_type": "stream",
     "text": [
      "The Net Present value of Alpha Corporation's Investment is $1790258.63\n"
     ]
    }
   ],
   "source": [
    "# Question 3: Alpha Corporation's investment of $3.4 million produces the following cash flows: \n",
    "# Year 1: $2.1 Million, Year 2: $2.2 million, Year 3: $1.6 million\n",
    "# If the discount rate is 7% the investment's net present value (NPV) is:\n",
    "CF_0 = 3400000\n",
    "CF_1 = 2100000\n",
    "CF_2 = 2200000\n",
    "CF_3 = 1600000\n",
    "IRR = 0.07\n",
    "NPV = round(-CF_0 + (CF_1/((1+IRR)**1)) + (CF_2/((1+IRR)**2)) + (CF_3/((1+IRR)**3)),2)\n",
    "print(f\"The Net Present value of Alpha Corporation's Investment is ${NPV}\")"
   ]
  },
  {
   "cell_type": "code",
   "execution_count": 15,
   "metadata": {},
   "outputs": [
    {
     "name": "stdout",
     "output_type": "stream",
     "text": [
      "The Expected Return of the Security is 10.24 % \n"
     ]
    }
   ],
   "source": [
    "# Question 4: A security has a coefficient of variation of 1.27 and a standard deviation of 13%. The expected return of the security is:\n",
    "CV = 1.27\n",
    "sigma = 13 \n",
    "X_bar = round(sigma/CV,2)\n",
    "print(f\"The Expected Return of the Security is {X_bar} % \")\n"
   ]
  },
  {
   "cell_type": "code",
   "execution_count": 20,
   "metadata": {},
   "outputs": [
    {
     "name": "stdout",
     "output_type": "stream",
     "text": [
      "Jane has accumulated $33290.97 after 11 years\n"
     ]
    }
   ],
   "source": [
    "# Question 5: Jane has been investing $2,000 at the end of each year for the past 11 years. Assuming she has earned 8% compounded annually on her investmenst, she has accumulated:\n",
    "pmt = 2000\n",
    "N = 11\n",
    "r = 0.08\n",
    "PV = 0\n",
    "FV = round(pmt*((((1+r)**N)-1)/r),2)\n",
    "print(f\"Jane has accumulated ${FV} after 11 years\")"
   ]
  },
  {
   "cell_type": "code",
   "execution_count": null,
   "metadata": {},
   "outputs": [],
   "source": []
  }
 ],
 "metadata": {
  "kernelspec": {
   "display_name": "Python 3",
   "language": "python",
   "name": "python3"
  },
  "language_info": {
   "codemirror_mode": {
    "name": "ipython",
    "version": 3
   },
   "file_extension": ".py",
   "mimetype": "text/x-python",
   "name": "python",
   "nbconvert_exporter": "python",
   "pygments_lexer": "ipython3",
   "version": "3.7.7"
  }
 },
 "nbformat": 4,
 "nbformat_minor": 4
}
